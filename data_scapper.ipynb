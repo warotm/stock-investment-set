{
 "cells": [
  {
   "cell_type": "code",
   "execution_count": null,
   "metadata": {},
   "outputs": [],
   "source": [
    "import requests\n",
    "import re\n",
    "import os\n",
    "import pandas as pd\n",
    "import json\n",
    "from tqdm.auto import tqdm\n",
    "from functools import lru_cache"
   ]
  },
  {
   "attachments": {},
   "cell_type": "markdown",
   "metadata": {},
   "source": [
    "### Download data\n"
   ]
  },
  {
   "cell_type": "code",
   "execution_count": null,
   "metadata": {},
   "outputs": [],
   "source": [
    "def get_settrade_symbols():\n",
    "    r = requests.get(\"https://api.settrade.com/api/quote/symbols\")\n",
    "    assert r.status_code == 200\n",
    "    r = r.json()\n",
    "    symbols = [\n",
    "        s[\"abbr_name\"].lower()\n",
    "        for s in r[\"symbols\"]\n",
    "        if s[\"product_type\"] == \"Stock\"\n",
    "        and \"PUBLIC COMPANY LIMITED\" in s[\"full_name_en\"]\n",
    "        and not re.match(\".*-[FPQW]$|.*-[FPQW][0-9]$\", s[\"abbr_name\"])\n",
    "    ]\n",
    "    return symbols"
   ]
  },
  {
   "cell_type": "code",
   "execution_count": null,
   "metadata": {},
   "outputs": [],
   "source": [
    "r = requests.get(\n",
    "    \"https://www.set.or.th/api/set/factsheet/cpall/price-performance?lang=en\".format(\n",
    "        symbol\n",
    "    ),\n",
    "    headers={\n",
    "        \"referer\": \"https://www.set.or.th/en/market/product/stock/quote/cpall/factsheet\"\n",
    "    },\n",
    ")\n",
    "r"
   ]
  },
  {
   "cell_type": "code",
   "execution_count": null,
   "metadata": {},
   "outputs": [],
   "source": [
    "r.content"
   ]
  },
  {
   "cell_type": "code",
   "execution_count": null,
   "metadata": {},
   "outputs": [],
   "source": [
    "@lru_cache(None)\n",
    "def get_symbol_data(symbol):\n",
    "    headers = {\n",
    "        \"referer\": \"https://www.set.or.th/en/market/product/stock/quote/{}/factsheet\".format(\n",
    "            symbol\n",
    "        )\n",
    "    }\n",
    "    data = {}\n",
    "    r = requests.get(\n",
    "        \"https://www.set.or.th/api/set/factsheet/{}/price-performance?lang=en\".format(\n",
    "            symbol\n",
    "        ),\n",
    "        headers=headers,\n",
    "    )\n",
    "    assert r.status_code == 200, symbol\n",
    "    c = json.loads(r.content)[\"stock\"]\n",
    "    data.update(c)\n",
    "    r = requests.get(\n",
    "        \"https://www.set.or.th/api/set/stock/{}/info?lang=en\".format(symbol),\n",
    "        headers=headers,\n",
    "    )\n",
    "    assert r.status_code == 200, symbol\n",
    "    c = json.loads(r.content)\n",
    "    data.update(c)\n",
    "    r = requests.get(\n",
    "        \"https://www.set.or.th/api/set/factsheet/{}/highlight-data?lang=en\".format(\n",
    "            symbol\n",
    "        ),\n",
    "        headers=headers,\n",
    "    )\n",
    "    assert r.status_code == 200, symbol\n",
    "    c = json.loads(r.content)\n",
    "    data.update(c)\n",
    "    r = requests.get(\n",
    "        \"https://www.set.or.th/api/set/factsheet/{}/financial-ratio?lang=en\".format(\n",
    "            symbol\n",
    "        ),\n",
    "        headers=headers,\n",
    "    )\n",
    "    assert r.status_code == 200, symbol\n",
    "    c = json.loads(r.content)\n",
    "    data.update(\n",
    "        {ratio[\"accountName\"]: ratio[\"value\"] for ratio in c[0][\"data\"]},\n",
    "        headers=headers,\n",
    "    )\n",
    "    return data"
   ]
  },
  {
   "cell_type": "code",
   "execution_count": null,
   "metadata": {},
   "outputs": [],
   "source": [
    "symbols = get_settrade_symbols()\n",
    "buffer = []\n",
    "for symbol in tqdm(symbols):\n",
    "    try:\n",
    "        buffer.append(get_symbol_data(symbol))\n",
    "    except:\n",
    "        print(\"Error loading : \" + symbol)\n",
    "        pass"
   ]
  },
  {
   "cell_type": "code",
   "execution_count": null,
   "metadata": {},
   "outputs": [],
   "source": [
    "df = pd.DataFrame(buffer)\n",
    "df.to_csv(\"data.csv\", index=False)"
   ]
  }
 ],
 "metadata": {
  "kernelspec": {
   "display_name": "Python 3.10.6 ('dataenv')",
   "language": "python",
   "name": "python3"
  },
  "language_info": {
   "codemirror_mode": {
    "name": "ipython",
    "version": 3
   },
   "file_extension": ".py",
   "mimetype": "text/x-python",
   "name": "python",
   "nbconvert_exporter": "python",
   "pygments_lexer": "ipython3",
   "version": "3.11.4"
  },
  "vscode": {
   "interpreter": {
    "hash": "02bf858b5f6b81cd80ff1985a32ff5070ae72063e65e5b874b5e424423aafa1a"
   }
  }
 },
 "nbformat": 4,
 "nbformat_minor": 2
}
