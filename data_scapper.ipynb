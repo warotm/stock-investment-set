{
 "cells": [
  {
   "cell_type": "code",
   "execution_count": null,
   "metadata": {},
   "outputs": [],
   "source": [
    "import requests\n",
    "import re\n",
    "import os\n",
    "import pandas as pd\n",
    "import json\n",
    "from tqdm.auto import tqdm"
   ]
  },
  {
   "attachments": {},
   "cell_type": "markdown",
   "metadata": {},
   "source": [
    "### Download data"
   ]
  },
  {
   "cell_type": "code",
   "execution_count": null,
   "metadata": {},
   "outputs": [],
   "source": [
    "def get_settrade_symbols():\n",
    "    r = requests.get('https://api.settrade.com/api/quote/symbols')\n",
    "    assert r.status_code == 200\n",
    "    r = r.json()\n",
    "    symbols = [s['abbr_name'].lower() for s in r['symbols'] if s['product_type'] ==\n",
    "               'Stock' and 'PUBLIC COMPANY LIMITED' in s['full_name_en'] and not re.match('.*-[FPQW]$|.*-[FPQW][0-9]$', s['abbr_name'])]\n",
    "    return symbols"
   ]
  },
  {
   "cell_type": "code",
   "execution_count": null,
   "metadata": {},
   "outputs": [],
   "source": [
    "def get_symbol_data(symbol):\n",
    "    data = {}\n",
    "    r = requests.get('https://www.set.or.th/api/set/factsheet/{}/price-performance?lang=en'.format(symbol))\n",
    "    assert r.status_code == 200, symbol\n",
    "    c = json.loads(r.content)['stock']\n",
    "    data.update(c)\n",
    "    r = requests.get('https://www.set.or.th/api/set/stock/{}/info?lang=en'.format(symbol))\n",
    "    assert r.status_code == 200, symbol\n",
    "    c = json.loads(r.content)\n",
    "    data.update(c)\n",
    "    r = requests.get('https://www.set.or.th/api/set/factsheet/{}/highlight-data?lang=en'.format(symbol))\n",
    "    assert r.status_code == 200, symbol\n",
    "    c = json.loads(r.content)\n",
    "    data.update(c)\n",
    "    r = requests.get('https://www.set.or.th/api/set/factsheet/{}/financial-ratio?lang=en'.format(symbol))\n",
    "    assert r.status_code == 200, symbol\n",
    "    c = json.loads(r.content)\n",
    "    data.update({ratio['accountName']:ratio['value'] for ratio in c[0]['data']})\n",
    "    return data"
   ]
  },
  {
   "cell_type": "code",
   "execution_count": null,
   "metadata": {},
   "outputs": [],
   "source": [
    "symbols = get_settrade_symbols()\n",
    "buffer = []\n",
    "for symbol in tqdm(symbols):\n",
    "    buffer.append(get_symbol_data(symbol))"
   ]
  },
  {
   "cell_type": "code",
   "execution_count": null,
   "metadata": {},
   "outputs": [],
   "source": [
    "df = pd.DataFrame(buffer)\n",
    "df.to_csv(\"data.csv\",index = False)"
   ]
  }
 ],
 "metadata": {
  "kernelspec": {
   "display_name": "Python 3.10.6 ('dataenv')",
   "language": "python",
   "name": "python3"
  },
  "language_info": {
   "codemirror_mode": {
    "name": "ipython",
    "version": 3
   },
   "file_extension": ".py",
   "mimetype": "text/x-python",
   "name": "python",
   "nbconvert_exporter": "python",
   "pygments_lexer": "ipython3",
   "version": "3.10.6 (tags/v3.10.6:9c7b4bd, Aug  1 2022, 21:53:49) [MSC v.1932 64 bit (AMD64)]"
  },
  "orig_nbformat": 4,
  "vscode": {
   "interpreter": {
    "hash": "02bf858b5f6b81cd80ff1985a32ff5070ae72063e65e5b874b5e424423aafa1a"
   }
  }
 },
 "nbformat": 4,
 "nbformat_minor": 2
}
