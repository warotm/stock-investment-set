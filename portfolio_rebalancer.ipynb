{
 "cells": [
  {
   "cell_type": "code",
   "execution_count": null,
   "metadata": {},
   "outputs": [],
   "source": [
    "import pandas as pd"
   ]
  },
  {
   "attachments": {},
   "cell_type": "markdown",
   "metadata": {},
   "source": [
    "### Read saved data"
   ]
  },
  {
   "cell_type": "code",
   "execution_count": null,
   "metadata": {},
   "outputs": [],
   "source": [
    "df = pd.read_csv(\"data.csv\",index_col=0)\n",
    "df.columns"
   ]
  },
  {
   "attachments": {},
   "cell_type": "markdown",
   "metadata": {},
   "source": [
    "### Calculate features"
   ]
  },
  {
   "cell_type": "code",
   "execution_count": null,
   "metadata": {},
   "outputs": [],
   "source": [
    "# get DATE, PRICE, 120d_RPS, E/P, B/P, EBITDA/EV, REVENUE/EV, Market Cap (MB.), ValueTrade\n",
    "# VC Damodaran, that combines P/E, P/B, EV/Sales, EV/EBITDA and P/FCF"
   ]
  },
  {
   "cell_type": "code",
   "execution_count": null,
   "metadata": {},
   "outputs": [],
   "source": [
    "screener_df = pd.DataFrame(index=df.index.copy())\n",
    "screener_df['Price'] = df['prior']\n",
    "screener_df['120d_RPS'] = df['sixMonthPercentChange']\n",
    "screener_df['E/P'] = 1/df['peRatio']\n",
    "screener_df['B/P'] = 1/df['pbRatio']\n",
    "screener_df['EBITDA/EV'] = 1/df['evToEbitdaRatio']\n",
    "screener_df['REVENUE/EV'] = (1/df['peRatio'])*df['marketCap']/(df['Net Profit Margin (%)']/100)/df['ev']\n",
    "screener_df['TradeValue'] = df['ytdAverageValue']\n",
    "screener_df['ValueComposite'] = (screener_df['E/P'].rank(pct=True, ascending=False) + screener_df['B/P'].rank(pct=True, ascending=False) + screener_df['EBITDA/EV'].rank(\n",
    "        pct=True, ascending=False) + screener_df['REVENUE/EV'].rank(pct=True, ascending=False)).rank(pct=True, ascending=False)\n",
    "screener_df"
   ]
  },
  {
   "cell_type": "code",
   "execution_count": null,
   "metadata": {},
   "outputs": [],
   "source": [
    "screener_df = screener_df[screener_df['ValueComposite'] > 0.85].sort_values('120d_RPS', ascending=False)\n",
    "screener_df"
   ]
  },
  {
   "cell_type": "code",
   "execution_count": null,
   "metadata": {},
   "outputs": [],
   "source": [
    "screener_df.index.name = 'Symbol'\n",
    "screener_df.to_excel(\"result.xlsx\")"
   ]
  },
  {
   "attachments": {},
   "cell_type": "markdown",
   "metadata": {},
   "source": [
    "### Manual get portfolio"
   ]
  },
  {
   "cell_type": "code",
   "execution_count": null,
   "metadata": {},
   "outputs": [],
   "source": [
    "portfolio = pd.read_excel('portfolio.xlsx')\n",
    "portfolio"
   ]
  },
  {
   "cell_type": "code",
   "execution_count": null,
   "metadata": {},
   "outputs": [],
   "source": [
    "line_available = 0"
   ]
  },
  {
   "cell_type": "markdown",
   "metadata": {},
   "source": [
    "### New portfolio plan"
   ]
  },
  {
   "cell_type": "code",
   "execution_count": null,
   "metadata": {},
   "outputs": [],
   "source": [
    "screener_result = pd.read_excel('result.xlsx')\n",
    "screener_result"
   ]
  },
  {
   "cell_type": "code",
   "execution_count": null,
   "metadata": {},
   "outputs": [],
   "source": [
    "account_value = line_available + portfolio['Value'].sum()\n",
    "target_value_per_stock = account_value/20\n",
    "target_value_per_stock"
   ]
  },
  {
   "cell_type": "code",
   "execution_count": null,
   "metadata": {},
   "outputs": [],
   "source": [
    "target_portfolio = screener_result[screener_result['TradeValue']>=10000000].iloc[:20].copy()\n",
    "target_portfolio['Target'] = target_portfolio.apply(lambda x: (target_value_per_stock/x['Price'])-(target_value_per_stock/x['Price'])%100,axis=1)\n",
    "target_portfolio['Value'] = target_portfolio['Target']*target_portfolio['Price']\n",
    "target_portfolio"
   ]
  },
  {
   "cell_type": "markdown",
   "metadata": {},
   "source": [
    "### Compare portfoilo / To do list"
   ]
  },
  {
   "cell_type": "code",
   "execution_count": null,
   "metadata": {},
   "outputs": [],
   "source": [
    "days = 2\n",
    "todo = pd.merge(portfolio[['Symbol','Available']],target_portfolio[['Symbol','Price','Target']],how='outer',on='Symbol',suffixes=('_current','_target')).fillna(0)\n",
    "todo['Buy(-Sell)'] = todo['Target']-todo['Available']\n",
    "todo = todo.sort_values('Buy(-Sell)')\n",
    "todo['Buy(-Sell)_Chunk'] = todo['Buy(-Sell)']/days - (todo['Buy(-Sell)']/days)%100\n",
    "todo['Buy(-Sell)_Chunk_Value'] = todo['Buy(-Sell)_Chunk']*todo['Price']\n",
    "todo"
   ]
  },
  {
   "cell_type": "code",
   "execution_count": null,
   "metadata": {},
   "outputs": [],
   "source": [
    "todo.to_excel('todo.xlsx',index=False)"
   ]
  },
  {
   "cell_type": "code",
   "execution_count": null,
   "metadata": {},
   "outputs": [],
   "source": []
  }
 ],
 "metadata": {
  "kernelspec": {
   "display_name": "dataenv",
   "language": "python",
   "name": "python3"
  },
  "language_info": {
   "codemirror_mode": {
    "name": "ipython",
    "version": 3
   },
   "file_extension": ".py",
   "mimetype": "text/x-python",
   "name": "python",
   "nbconvert_exporter": "python",
   "pygments_lexer": "ipython3",
   "version": "3.11.4"
  },
  "vscode": {
   "interpreter": {
    "hash": "02bf858b5f6b81cd80ff1985a32ff5070ae72063e65e5b874b5e424423aafa1a"
   }
  }
 },
 "nbformat": 4,
 "nbformat_minor": 2
}
